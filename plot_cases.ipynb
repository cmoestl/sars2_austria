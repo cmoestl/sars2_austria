{
 "cells": [
  {
   "cell_type": "markdown",
   "metadata": {},
   "source": [
    "## SARS-2 Austria \n",
    "\n",
    "C. Möstl, Graz, https://twitter.com/chrisoutofspace\n",
    "\n",
    "data source for Austria\n",
    "https://orf.at/corona/stories/3157533/\n",
    "\n",
    "data source for South Korea\n",
    "https://www.worldometers.info/coronavirus/country/south-korea/\n",
    "\n",
    "for converting to script on the command line: jupyter nbconvert --to script plot_cases.ipynb"
   ]
  },
  {
   "cell_type": "code",
   "execution_count": 1,
   "metadata": {},
   "outputs": [
    {
     "name": "stdout",
     "output_type": "stream",
     "text": [
      "Austria\n",
      "2020-02-25 23:00\n",
      "2020-03-22 23:00\n",
      "[2, 2, 3, 3, 9, 14, 18, 21, 29, 41, 55, 79, 104, 131, 182, 246, 302, 504, 655, 860, 1016, 1332, 1646, 2053, 2388, 2814, 3244]\n",
      "20\n"
     ]
    }
   ],
   "source": [
    "import numpy as np\n",
    "import matplotlib\n",
    "import matplotlib.pyplot as plt\n",
    "import seaborn as sns\n",
    "import scipy\n",
    "from sunpy.time import parse_time\n",
    "import datetime\n",
    "from pandas.plotting import register_matplotlib_converters\n",
    "register_matplotlib_converters()\n",
    "\n",
    "import set_input_here\n",
    "\n",
    "\n",
    "import importlib\n",
    "importlib.reload(set_input_here)\n",
    "from set_input_here import t_start_string, t_end_string, cases_list, filename, country, south_korea_offset\n",
    "\n",
    "def expon(x, a, k, b):\n",
    "    return a*np.exp(k*x) + b\n",
    "\n",
    "def linear(x, k, b):\n",
    "    return k*x + b\n",
    "\n",
    "\n",
    "def gaussian(x, a, x0, sigma):\n",
    "    return a*np.exp(-(x-x0)**2/(2*sigma**2))\n",
    "\n",
    "\n",
    "\n",
    "sns.set_style('darkgrid')\n",
    "sns.set_context('paper')   \n",
    "\n",
    "print(country)\n",
    "print(t_start_string)\n",
    "print(t_end_string)\n",
    "print(cases_list)\n",
    "print(south_korea_offset)"
   ]
  },
  {
   "cell_type": "markdown",
   "metadata": {},
   "source": [
    "\n",
    "### Austria"
   ]
  },
  {
   "cell_type": "code",
   "execution_count": 2,
   "metadata": {},
   "outputs": [
    {
     "name": "stdout",
     "output_type": "stream",
     "text": [
      "['2020-02-25 23:00:00.000' '2020-02-26 23:00:00.000'\n",
      " '2020-02-27 23:00:00.000' '2020-02-28 23:00:00.000'\n",
      " '2020-02-29 23:00:00.000' '2020-03-01 23:00:00.000'\n",
      " '2020-03-02 23:00:00.000' '2020-03-03 23:00:00.000'\n",
      " '2020-03-04 23:00:00.000' '2020-03-05 23:00:00.000'\n",
      " '2020-03-06 23:00:00.000' '2020-03-07 23:00:00.000'\n",
      " '2020-03-08 23:00:00.000' '2020-03-09 23:00:00.000'\n",
      " '2020-03-10 23:00:00.000' '2020-03-11 23:00:00.000'\n",
      " '2020-03-12 23:00:00.000' '2020-03-13 23:00:00.000'\n",
      " '2020-03-14 23:00:00.000' '2020-03-15 23:00:00.000'\n",
      " '2020-03-16 23:00:00.000' '2020-03-17 23:00:00.000'\n",
      " '2020-03-18 23:00:00.000' '2020-03-19 23:00:00.000'\n",
      " '2020-03-20 23:00:00.000' '2020-03-21 23:00:00.000'\n",
      " '2020-03-22 23:00:00.000']\n",
      "[   2    2    3    3    9   14   18   21   29   41   55   79  104  131\n",
      "  182  246  302  504  655  860 1016 1332 1646 2053 2388 2814 3244]\n"
     ]
    },
    {
     "ename": "NameError",
     "evalue": "name 'p1' is not defined",
     "output_type": "error",
     "traceback": [
      "\u001b[0;31m---------------------------------------------------------------------------\u001b[0m",
      "\u001b[0;31mNameError\u001b[0m                                 Traceback (most recent call last)",
      "\u001b[0;32m<ipython-input-2-b4351accd105>\u001b[0m in \u001b[0;36m<module>\u001b[0;34m\u001b[0m\n\u001b[1;32m     18\u001b[0m \u001b[0mdates_fut1\u001b[0m\u001b[0;34m=\u001b[0m\u001b[0mdates_fut\u001b[0m\u001b[0;34m-\u001b[0m\u001b[0mdates_fut\u001b[0m\u001b[0;34m[\u001b[0m\u001b[0;36m0\u001b[0m\u001b[0;34m]\u001b[0m\u001b[0;34m\u001b[0m\u001b[0;34m\u001b[0m\u001b[0m\n\u001b[1;32m     19\u001b[0m \u001b[0;34m\u001b[0m\u001b[0m\n\u001b[0;32m---> 20\u001b[0;31m \u001b[0mfit\u001b[0m\u001b[0;34m=\u001b[0m\u001b[0mexpon\u001b[0m\u001b[0;34m(\u001b[0m\u001b[0mdates_fut1\u001b[0m\u001b[0;34m,\u001b[0m\u001b[0mp1\u001b[0m\u001b[0;34m,\u001b[0m\u001b[0mp2\u001b[0m\u001b[0;34m,\u001b[0m\u001b[0mp3\u001b[0m\u001b[0;34m)\u001b[0m\u001b[0;34m\u001b[0m\u001b[0;34m\u001b[0m\u001b[0m\n\u001b[0m\u001b[1;32m     21\u001b[0m \u001b[0;34m\u001b[0m\u001b[0m\n\u001b[1;32m     22\u001b[0m \u001b[0;31m#fitl=linear(dates_fut1,p1l,p2l)\u001b[0m\u001b[0;34m\u001b[0m\u001b[0;34m\u001b[0m\u001b[0;34m\u001b[0m\u001b[0m\n",
      "\u001b[0;31mNameError\u001b[0m: name 'p1' is not defined"
     ]
    }
   ],
   "source": [
    "t_start=parse_time(t_start_string).datetime\n",
    "t_end=parse_time(t_end_string).datetime\n",
    "\n",
    "dates=parse_time([t_start + datetime.timedelta(days=1*n) for n in range((t_end - t_start).days+1)]).datetime\n",
    "cases=np.array(cases_list)\n",
    "\n",
    "print(parse_time(dates).iso)\n",
    "print(cases)\n",
    "\n",
    "dates1=parse_time(dates).plot_date\n",
    "dates1=dates1-dates1[0] \n",
    "\n",
    "\n",
    "\n",
    "t_end2=parse_time('2020-04-13 23:00').datetime\n",
    "\n",
    "dates_fut=parse_time([t_start + datetime.timedelta(days=n) for n in range((t_end2 - t_start).days)]).plot_date\n",
    "dates_fut1=dates_fut-dates_fut[0]\n",
    "\n",
    "fit=expon(dates_fut1,p1,p2,p3)\n",
    "\n",
    "#fitl=linear(dates_fut1,p1l,p2l)\n",
    "\n",
    "now=datetime.datetime.utcnow().strftime(\"%Y-%b-%d %H:%M\")\n",
    "#now=dates[-1].strftime(\"%Y-%b-%d %H:%M\")"
   ]
  },
  {
   "cell_type": "markdown",
   "metadata": {},
   "source": [
    "#### Exponential and Gaussian fits"
   ]
  },
  {
   "cell_type": "code",
   "execution_count": null,
   "metadata": {},
   "outputs": [],
   "source": [
    "#exponential fit for total cases\n",
    "#for morning numbers\n",
    "#param = scipy.optimize.curve_fit(expon, dates1[0:-1], cases[0:-1] )\n",
    "#afternoon numbers\n",
    "param = scipy.optimize.curve_fit(expon, dates1, cases )\n",
    "p1=param[0][0]\n",
    "p2=param[0][1]\n",
    "p3=param[0][2]\n",
    "print()\n",
    "print('Exponential fit parameters:',param[0])\n",
    "\n",
    "#gaussian fits for daily new cases\n",
    "newcases=np.gradient(cases)\n",
    "paramg = scipy.optimize.curve_fit(gaussian, dates1, newcases )\n",
    "ygfit=gaussian(dates_fut1,paramg[0][0],paramg[0][1],paramg[0][2])\n",
    "#plt.plot_date(dates,newcases)\n",
    "#plt.plot_date(dates_fut,ygfit,'-k')\n",
    "print('Gaussian fit parameters:',paramg[0])"
   ]
  },
  {
   "cell_type": "markdown",
   "metadata": {},
   "source": [
    "### South Korea"
   ]
  },
  {
   "cell_type": "code",
   "execution_count": null,
   "metadata": {},
   "outputs": [],
   "source": [
    "t_start_sk=parse_time('2020-02-15 20:00').datetime\n",
    "t_end_sk=parse_time('2020-03-18 20:00').datetime\n",
    "\n",
    "t_start_sk=t_start_sk+datetime.timedelta(days=south_korea_offset)\n",
    "t_end_sk=t_end_sk+datetime.timedelta(days=south_korea_offset)\n",
    "\n",
    "dates_sk=parse_time([t_start_sk + datetime.timedelta(days=1*n) for n in range((t_end_sk - t_start_sk).days)]).datetime\n",
    "dates_sk1=parse_time([t_start_sk + datetime.timedelta(days=1*n) for n in range((t_end_sk - t_start_sk).days)]).plot_date\n",
    "dates_sk1=dates_sk1-dates_sk1[0] \n",
    "\n",
    "print(parse_time(dates_sk).iso)\n",
    "cases_sk=np.array([28, 29, 30, 31, 58, 111, 209, 436,602, 833, 977, 1261, 1766, 2337,\\\n",
    "                   3150,3736, 4335,5186,5621,6284,6593,7041,7313,7478,7513,7755,7869,\\\n",
    "                   7979,8086,8162,8236,8320])\n",
    "newcases_sk=np.gradient(cases_sk)\n",
    "#print(cases_sk)\n",
    "#print(len(cases_sk),len(dates_sk))\n",
    "\n",
    "\n",
    "#gaussian fits for daily new cases South Korea\n",
    "newcases_sk=np.gradient(cases_sk)\n",
    "print(dates_sk1)\n",
    "print(cases_sk)\n",
    "paramg_sk = scipy.optimize.curve_fit(gaussian, dates_sk1, newcases_sk )\n",
    "ygfit_sk=gaussian(dates_sk1,paramg_sk[0][0],paramg_sk[0][1],paramg_sk[0][2])\n",
    "#plt.plot_date(dates,newcases)\n",
    "#plt.plot_date(dates_fut,ygfit,'-k')\n",
    "print('Gaussian fit parameters:',paramg_sk[0])\n"
   ]
  },
  {
   "cell_type": "code",
   "execution_count": null,
   "metadata": {},
   "outputs": [],
   "source": [
    "plt.figure(1,figsize=(10,6),dpi=150)\n",
    "ax1 = plt.subplot(211) \n",
    "\n",
    "ax1.plot(dates,cases,marker='o',color='tomato',label=country+' verified cases',markersize=6)\n",
    "ax1.plot(dates_fut,fit,linestyle='-',color='k',label='exponential fit')\n",
    "#ax2.plot(dates_fut,np.gradient(fitl),color='black',label='linear fit')\n",
    "ax1.plot(dates_sk,cases_sk,linestyle='--',color='steelblue',label='South Korea verified cases +'+str(south_korea_offset)+' days')\n",
    "\n",
    "\n",
    "ax1.xaxis.set_major_formatter( matplotlib.dates.DateFormatter('%b-%d') )\n",
    "ax1.set_xlim([dates_fut[0],dates_fut[-1]])\n",
    "plt.xticks(rotation=60)\n",
    "plt.ylabel('Total cases')\n",
    "plt.ylim(-200,10000)\n",
    "plt.title(country+' SARS-2  '+now+ ' UTC')\n",
    "plt.legend()\n",
    "ax1.set_xticks(dates_fut)\n",
    "\n",
    "\n",
    "ax2 = plt.subplot(212) \n",
    "\n",
    "ax2.plot(dates_sk,np.gradient(cases_sk),linestyle='',marker='o',color='steelblue',label='South Korea daily new cases +'+str(south_korea_offset)+' days')\n",
    "#ax2.bar(dates_sk,np.gradient(cases_sk),color='steelblue',label='South Korea daily new cases +'+str(south_korea_offset)+' days')\n",
    "ax2.plot(dates_sk,ygfit_sk,'steelblue',label='South Korea gaussian fit '+str(south_korea_offset)+' days')\n",
    "\n",
    "ax2.bar(dates,np.gradient(cases),color='tomato',label=country+' daily new cases')\n",
    "ax2.plot(dates_fut,np.gradient(fit),color='black',label=country+' exponential fit')\n",
    "ax2.plot(dates_fut,ygfit,color='tomato',linestyle='-',label=country+' gaussian fit')\n",
    "\n",
    "ax2.xaxis.set_major_formatter( matplotlib.dates.DateFormatter('%b-%d') )\n",
    "\n",
    "plt.xticks(rotation=60)\n",
    "plt.ylabel('New cases')\n",
    "ax2.set_xlim([dates_fut[0],dates_fut[-1]])\n",
    "plt.title(country+' SARS-2  '+now + ' UTC')\n",
    "ax2.set_xticks(dates_fut)\n",
    "plt.ylim(0,np.max(np.gradient(cases_sk))+30)\n",
    "\n",
    "plt.legend(loc=2)\n",
    "\n",
    "plt.tight_layout()\n",
    "print('current total cases '+country,cases[-1])\n",
    "\n",
    "plt.savefig(filename)"
   ]
  },
  {
   "cell_type": "code",
   "execution_count": null,
   "metadata": {},
   "outputs": [],
   "source": []
  },
  {
   "cell_type": "code",
   "execution_count": null,
   "metadata": {},
   "outputs": [],
   "source": []
  }
 ],
 "metadata": {
  "kernelspec": {
   "display_name": "Python 3",
   "language": "python",
   "name": "python3"
  },
  "language_info": {
   "codemirror_mode": {
    "name": "ipython",
    "version": 3
   },
   "file_extension": ".py",
   "mimetype": "text/x-python",
   "name": "python",
   "nbconvert_exporter": "python",
   "pygments_lexer": "ipython3",
   "version": "3.7.3"
  }
 },
 "nbformat": 4,
 "nbformat_minor": 4
}
